{
 "cells": [
  {
   "cell_type": "code",
   "execution_count": 1,
   "metadata": {
    "collapsed": true
   },
   "outputs": [],
   "source": [
    "%matplotlib inline\n",
    "from bs4 import BeautifulSoup\n",
    "import requests\n",
    "import pandas as pd"
   ]
  },
  {
   "cell_type": "code",
   "execution_count": 2,
   "metadata": {
    "collapsed": true
   },
   "outputs": [],
   "source": [
    "r = requests.get(\"http://www.the-numbers.com/movie/records/All-Time-Domestic-Box-Office\")\n",
    "soup = BeautifulSoup(r.text, \"lxml\")"
   ]
  },
  {
   "cell_type": "code",
   "execution_count": 3,
   "metadata": {
    "collapsed": true
   },
   "outputs": [],
   "source": [
    "allrows = soup.find_all(\"tr\")"
   ]
  },
  {
   "cell_type": "code",
   "execution_count": 7,
   "metadata": {
    "collapsed": false
   },
   "outputs": [
    {
     "data": {
      "text/plain": [
       "<tr class=\"highlight\">\n",
       "<td class=\"data\">1</td>\n",
       "<td class=\"data\">2015</td>\n",
       "<td><b><a href=\"/movie/Star-Wars-Ep-VII-The-Force-Awakens#tab=summary\">Star Wars Ep. VII: The Force Awakens</a></b></td>\n",
       "<td class=\"data\">$936,662,225</td>\n",
       "<td class=\"data\">$1,122,000,000</td>\n",
       "<td class=\"data\">$2,058,662,225</td>\n",
       "</tr>"
      ]
     },
     "execution_count": 7,
     "metadata": {},
     "output_type": "execute_result"
    }
   ],
   "source": [
    "allrows[1]"
   ]
  },
  {
   "cell_type": "code",
   "execution_count": 26,
   "metadata": {
    "collapsed": false
   },
   "outputs": [],
   "source": [
    "boxOffice = {'releaseDate':[], 'title':[], \"domesticProceeds\":[],\n",
    "             \"internationalProceeds\":[], \"worldwideProceeds\":[]}\n",
    "\n",
    "for row in allrows[1:]:\n",
    "    currentRow = row.find_all(\"td\")\n",
    "    \n",
    "    releaseYear = currentRow[1].contents[0]\n",
    "    boxOffice['releaseDate'].append(int(releaseYear))\n",
    "    boxOffice['title'].append(currentRow[2].get_text())\n",
    "    boxOffice['domesticProceeds'].append(currentRow[3].contents[0])\n",
    "    boxOffice['internationalProceeds'].append(currentRow[4].contents[0])\n",
    "    boxOffice['worldwideProceeds'].append(currentRow[5].contents[0])"
   ]
  },
  {
   "cell_type": "code",
   "execution_count": 36,
   "metadata": {
    "collapsed": false
   },
   "outputs": [
    {
     "data": {
      "text/html": [
       "<div>\n",
       "<table border=\"1\" class=\"dataframe\">\n",
       "  <thead>\n",
       "    <tr style=\"text-align: right;\">\n",
       "      <th></th>\n",
       "      <th>domesticProceeds</th>\n",
       "      <th>internationalProceeds</th>\n",
       "      <th>releaseDate</th>\n",
       "      <th>title</th>\n",
       "      <th>worldwideProceeds</th>\n",
       "    </tr>\n",
       "  </thead>\n",
       "  <tbody>\n",
       "    <tr>\n",
       "      <th>0</th>\n",
       "      <td>$936,662,225</td>\n",
       "      <td>$1,122,000,000</td>\n",
       "      <td>2015</td>\n",
       "      <td>Star Wars Ep. VII: The Force Awakens</td>\n",
       "      <td>$2,058,662,225</td>\n",
       "    </tr>\n",
       "    <tr>\n",
       "      <th>1</th>\n",
       "      <td>$760,507,625</td>\n",
       "      <td>$2,023,411,357</td>\n",
       "      <td>2009</td>\n",
       "      <td>Avatar</td>\n",
       "      <td>$2,783,918,982</td>\n",
       "    </tr>\n",
       "    <tr>\n",
       "      <th>2</th>\n",
       "      <td>$658,672,302</td>\n",
       "      <td>$1,548,943,366</td>\n",
       "      <td>1997</td>\n",
       "      <td>Titanic</td>\n",
       "      <td>$2,207,615,668</td>\n",
       "    </tr>\n",
       "    <tr>\n",
       "      <th>3</th>\n",
       "      <td>$652,198,010</td>\n",
       "      <td>$1,018,130,015</td>\n",
       "      <td>2015</td>\n",
       "      <td>Jurassic World</td>\n",
       "      <td>$1,670,328,025</td>\n",
       "    </tr>\n",
       "    <tr>\n",
       "      <th>4</th>\n",
       "      <td>$623,279,547</td>\n",
       "      <td>$896,200,000</td>\n",
       "      <td>2012</td>\n",
       "      <td>The Avengers</td>\n",
       "      <td>$1,519,479,547</td>\n",
       "    </tr>\n",
       "    <tr>\n",
       "      <th>5</th>\n",
       "      <td>$533,345,358</td>\n",
       "      <td>$469,546,000</td>\n",
       "      <td>2008</td>\n",
       "      <td>The Dark Knight</td>\n",
       "      <td>$1,002,891,358</td>\n",
       "    </tr>\n",
       "    <tr>\n",
       "      <th>6</th>\n",
       "      <td>$483,597,782</td>\n",
       "      <td>$467,000,000</td>\n",
       "      <td>2016</td>\n",
       "      <td>Finding Dory</td>\n",
       "      <td>$950,597,782</td>\n",
       "    </tr>\n",
       "    <tr>\n",
       "      <th>7</th>\n",
       "      <td>$474,544,677</td>\n",
       "      <td>$552,500,000</td>\n",
       "      <td>1999</td>\n",
       "      <td>Star Wars Ep. I: The Phantom Menace</td>\n",
       "      <td>$1,027,044,677</td>\n",
       "    </tr>\n",
       "    <tr>\n",
       "      <th>8</th>\n",
       "      <td>$460,998,007</td>\n",
       "      <td>$325,600,000</td>\n",
       "      <td>1977</td>\n",
       "      <td>Star Wars Ep. IV: A New Hope</td>\n",
       "      <td>$786,598,007</td>\n",
       "    </tr>\n",
       "    <tr>\n",
       "      <th>9</th>\n",
       "      <td>$459,005,868</td>\n",
       "      <td>$945,700,000</td>\n",
       "      <td>2015</td>\n",
       "      <td>Avengers: Age of Ultron</td>\n",
       "      <td>$1,404,705,868</td>\n",
       "    </tr>\n",
       "  </tbody>\n",
       "</table>\n",
       "</div>"
      ],
      "text/plain": [
       "  domesticProceeds internationalProceeds  releaseDate  \\\n",
       "0     $936,662,225        $1,122,000,000         2015   \n",
       "1     $760,507,625        $2,023,411,357         2009   \n",
       "2     $658,672,302        $1,548,943,366         1997   \n",
       "3     $652,198,010        $1,018,130,015         2015   \n",
       "4     $623,279,547          $896,200,000         2012   \n",
       "5     $533,345,358          $469,546,000         2008   \n",
       "6     $483,597,782          $467,000,000         2016   \n",
       "7     $474,544,677          $552,500,000         1999   \n",
       "8     $460,998,007          $325,600,000         1977   \n",
       "9     $459,005,868          $945,700,000         2015   \n",
       "\n",
       "                                  title worldwideProceeds  \n",
       "0  Star Wars Ep. VII: The Force Awakens    $2,058,662,225  \n",
       "1                                Avatar    $2,783,918,982  \n",
       "2                               Titanic    $2,207,615,668  \n",
       "3                        Jurassic World    $1,670,328,025  \n",
       "4                          The Avengers    $1,519,479,547  \n",
       "5                       The Dark Knight    $1,002,891,358  \n",
       "6                          Finding Dory      $950,597,782  \n",
       "7   Star Wars Ep. I: The Phantom Menace    $1,027,044,677  \n",
       "8          Star Wars Ep. IV: A New Hope      $786,598,007  \n",
       "9               Avengers: Age of Ultron    $1,404,705,868  "
      ]
     },
     "execution_count": 36,
     "metadata": {},
     "output_type": "execute_result"
    }
   ],
   "source": [
    "df = pd.DataFrame(boxOffice)\n",
    "df.head(10)"
   ]
  },
  {
   "cell_type": "code",
   "execution_count": 43,
   "metadata": {
    "collapsed": false
   },
   "outputs": [],
   "source": [
    "csv = df.to_csv('boxOffice')\n",
    "csv"
   ]
  },
  {
   "cell_type": "code",
   "execution_count": null,
   "metadata": {
    "collapsed": true
   },
   "outputs": [],
   "source": []
  }
 ],
 "metadata": {
  "kernelspec": {
   "display_name": "Python 3",
   "language": "python",
   "name": "python3"
  },
  "language_info": {
   "codemirror_mode": {
    "name": "ipython",
    "version": 3
   },
   "file_extension": ".py",
   "mimetype": "text/x-python",
   "name": "python",
   "nbconvert_exporter": "python",
   "pygments_lexer": "ipython3",
   "version": "3.5.1"
  }
 },
 "nbformat": 4,
 "nbformat_minor": 0
}
